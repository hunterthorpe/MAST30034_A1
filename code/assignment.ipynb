{
 "cells": [
  {
   "cell_type": "code",
   "execution_count": 74,
   "source": [
    "# setup\n",
    "%reset -f\n",
    "import matplotlib.pyplot as plt\n",
    "import pandas as pd\n",
    "import numpy as np\n",
    "import seaborn as sns\n",
    "import random\n",
    "from PIL import Image\n",
    "import os\n",
    "from sklearn.decomposition import PCA"
   ],
   "outputs": [],
   "metadata": {}
  },
  {
   "cell_type": "code",
   "execution_count": 75,
   "source": [
    "# Question 1.1 \n",
    "AV = [0, 20, 0, 0, 0, 0]\n",
    "IV = [30, 45, 60, 40, 40, 40]\n",
    "ONES_DURATION = [15, 20, 25, 15, 20, 25]\n",
    "N = 240\n",
    "NUM_T_SOURCES = 6\n",
    "tc = []\n",
    "t_vector_names = ['TC1', 'TC2', 'TC3', 'TC4', 'TC5', 'TC6']\n",
    "\n",
    "for vector_num in range(NUM_T_SOURCES):\n",
    "    vector = []\n",
    "    index = 0\n",
    "    # adding in 0s while incrementing to arrival \n",
    "    while index < AV[vector_num]:\n",
    "        vector.append(0)\n",
    "        index += 1\n",
    "    one_count = 0\n",
    "    inc_count = 0\n",
    "    while index < N:\n",
    "        # resetting counts if an increment has been completed\n",
    "        if inc_count >= IV[vector_num]:\n",
    "            inc_count = 0\n",
    "            one_count = 0\n",
    "        if one_count < ONES_DURATION[vector_num]:\n",
    "            vector.append(1)\n",
    "            one_count += 1\n",
    "        else:\n",
    "            vector.append(0)\n",
    "        # incrementing counters \n",
    "        inc_count += 1\n",
    "        index += 1   \n",
    "    # mean subtraction followed by division by std dev\n",
    "    vector = [x - np.mean(vector) for x in vector]\n",
    "    vector = [x / np.std(vector) for x in vector]\n",
    "    # plotting time course\n",
    "    plt.clf()\n",
    "    plt.title('TC ' + str(vector_num + 1), fontdict = {'fontsize' : 24})\n",
    "    plt.plot(range(len(vector)), vector)\n",
    "    plt.savefig('../plots/1.1/tc_' + str(vector_num + 1) + '.jpeg')\n",
    "\n",
    "    tc.append(vector)\n",
    "\n",
    "# rotating matrix so that a df can be made with dimensions 240 x 6 \n",
    "tc  = zip(*reversed(tc))\n",
    "tc_df = pd.DataFrame(tc, columns = t_vector_names)\n",
    "tc = tc_df.to_numpy()"
   ],
   "outputs": [
    {
     "output_type": "display_data",
     "data": {
      "image/png": "[encoded data removed]",
      "text/plain": [
       "<Figure size 432x288 with 1 Axes>"
      ]
     },
     "metadata": {
      "needs_background": "light"
     }
    }
   ],
   "metadata": {}
  },
  {
   "cell_type": "code",
   "execution_count": 76,
   "source": [
    "#Question 1.2\n",
    "def get_cm(df, num_vectors, tick_labels, save_path, title):\n",
    "    \"\"\"Creates correlation matrix from df\"\"\"\n",
    "    plt.clf()\n",
    "    if len(df.iloc[0]) == num_vectors:\n",
    "        plt.matshow(df.corr())\n",
    "    else:\n",
    "        plt.matshow(df.T.corr())\n",
    "    plt.colorbar()\n",
    "    ticks = [i for i in range(num_vectors)]\n",
    "    plt.xticks(ticks, tick_labels, rotation=45)\n",
    "    plt.yticks(ticks, tick_labels)\n",
    "    plt.title(title)\n",
    "    plt.savefig(save_path)\n",
    "\n",
    "get_cm(tc_df, NUM_T_SOURCES, t_vector_names, '../plots/1.2/CM_1.2.jpeg', 'TC CM')    "
   ],
   "outputs": [
    {
     "output_type": "display_data",
     "data": {
      "text/plain": [
       "<Figure size 432x288 with 0 Axes>"
      ]
     },
     "metadata": {}
    },
    {
     "output_type": "display_data",
     "data": {
      "image/png": "[encoded data removed]",
      "text/plain": [
       "<Figure size 288x288 with 2 Axes>"
      ]
     },
     "metadata": {
      "needs_background": "light"
     }
    }
   ],
   "metadata": {}
  },
  {
   "cell_type": "code",
   "execution_count": 77,
   "source": [
    "# Question 1.3\n",
    "tmpSM = []\n",
    "NUM_MAPS = 6 \n",
    "MAP_WIDTH = 21\n",
    "MAP_LENGTH = 21\n",
    "V = 441\n",
    "V_SLICE = [[2,6], [2,6], [8,13], [8,13], [15, 19], [15, 19]]\n",
    "H_SLICE = [[2,6], [15,19], [2,6], [15,19], [2, 6], [15, 19]]\n",
    "s_vector_names = ['SM1', 'SM2', 'SM3', 'SM4', 'SM5', 'SM6']\n",
    "\n",
    "def plot_map(matrix, axis):\n",
    "    axis.matshow(matrix)\n",
    "    axis.colorbar()\n",
    "    axis.xticks(np.arange(0, MAP_WIDTH+1, 2.0))\n",
    "    axis.yticks(np.arange(0, MAP_LENGTH+1, 2.0))\n",
    "\n",
    "for matrix_num in range(NUM_MAPS):\n",
    "    # creating blank matrix of 0s \n",
    "    matrix = []\n",
    "    for i in range(MAP_LENGTH):\n",
    "        row = []\n",
    "        for j in range(MAP_WIDTH):\n",
    "            row.append(0)\n",
    "        matrix.append(row)\n",
    "    # adding ones \n",
    "    for i in range(V_SLICE[matrix_num][0] - 1, V_SLICE[matrix_num][1] - 1):\n",
    "        for j in range(H_SLICE[matrix_num][0] - 1, H_SLICE[matrix_num][1] - 1):\n",
    "            matrix[i][j] = 1\n",
    "    # plotting map\n",
    "    plt.clf()\n",
    "    plot_map(matrix, plt)\n",
    "    plt.title('SM ' + str(matrix_num + 1), fontdict = {'fontsize' : 18})\n",
    "    plt.savefig('../plots/1.3/sm_' + str(matrix_num + 1) + '.jpeg')\n",
    "\n",
    "    tmpSM.append(matrix)\n",
    "\n",
    "def get_column(matrix, col_num):\n",
    "    \"\"\"Retrivies column col_num from matrix\"\"\"\n",
    "    col = []\n",
    "    for row in matrix:\n",
    "        col.append(row[col_num])\n",
    "    return col\n",
    "\n",
    "# reshaping array column wise \n",
    "sm = []\n",
    "for matrix_num in range(NUM_MAPS):\n",
    "    sm.append(np.array(tmpSM[matrix_num]).flatten('F'))\n",
    "\n",
    "sm_df = pd.DataFrame(sm, columns = range(1, V+1))\n",
    "get_cm(sm_df, NUM_MAPS, s_vector_names, '../plots/1.3/CM_1.3.jpeg', 'SM CM')"
   ],
   "outputs": [
    {
     "output_type": "display_data",
     "data": {
      "text/plain": [
       "<Figure size 432x288 with 0 Axes>"
      ]
     },
     "metadata": {}
    },
    {
     "output_type": "display_data",
     "data": {
      "text/plain": [
       "<Figure size 288x288 with 0 Axes>"
      ]
     },
     "metadata": {}
    },
    {
     "output_type": "display_data",
     "data": {
      "text/plain": [
       "<Figure size 288x288 with 0 Axes>"
      ]
     },
     "metadata": {}
    },
    {
     "output_type": "display_data",
     "data": {
      "text/plain": [
       "<Figure size 288x288 with 0 Axes>"
      ]
     },
     "metadata": {}
    },
    {
     "output_type": "display_data",
     "data": {
      "text/plain": [
       "<Figure size 288x288 with 0 Axes>"
      ]
     },
     "metadata": {}
    },
    {
     "output_type": "display_data",
     "data": {
      "text/plain": [
       "<Figure size 288x288 with 0 Axes>"
      ]
     },
     "metadata": {}
    },
    {
     "output_type": "display_data",
     "data": {
      "text/plain": [
       "<Figure size 288x288 with 0 Axes>"
      ]
     },
     "metadata": {}
    },
    {
     "output_type": "display_data",
     "data": {
      "image/png": "[encoded data removed]",
      "text/plain": [
       "<Figure size 288x288 with 2 Axes>"
      ]
     },
     "metadata": {
      "needs_background": "light"
     }
    }
   ],
   "metadata": {}
  },
  {
   "cell_type": "code",
   "execution_count": 78,
   "source": [
    "# Question 1.4\n",
    "T_NOISE_VAR = 0.25\n",
    "S_NOISE_VAR = 0.015\n",
    "MEAN = 0\n",
    "np.random.seed(0)\n",
    "\n",
    "def get_noise(width, length, mean, var):\n",
    "    gamma = []\n",
    "    noise = list(np.random.normal(mean, np.sqrt(var), size=length*width))\n",
    "    index = 0 \n",
    "    for i in range(length):\n",
    "        vector = []\n",
    "        for j in range(width):\n",
    "            vector.append(noise[index])\n",
    "            index += 1\n",
    "        gamma.append(vector)\n",
    "    return gamma, noise\n",
    "\n",
    "# generating temporal noise, correlation matrix and histogram\n",
    "gamma_t, t_noise = get_noise(NUM_T_SOURCES, N, MEAN, T_NOISE_VAR)\n",
    "gamma_t_df = pd.DataFrame(gamma_t,  columns = t_vector_names)\n",
    "get_cm(gamma_t_df, NUM_T_SOURCES, ['N_TC1', 'N_TC2', 'N_TC3', 'N_TC4', 'N_TC5', 'N_TC6'], '../plots/1.4/time_noise_cm.jpeg', 'Gamma t CM')\n",
    "plt.clf()\n",
    "sns.distplot(t_noise)\n",
    "plt.title('Gamma t histogram')\n",
    "plt.savefig('../plots/1.4/time_noise_hist.jpeg')\n",
    "\n",
    "# generating spacial noise, correlation matrix and histogram\n",
    "gamma_s, s_noise = get_noise(V, NUM_MAPS, MEAN, S_NOISE_VAR)\n",
    "gamma_s_df = pd.DataFrame(gamma_s,  columns = range(1, V+1))\n",
    "get_cm(gamma_t_df, NUM_MAPS, ['N_SM1', 'N_SM2', 'N_SM3', 'N_SM4', 'N_SM5', 'N_SM6'], '../plots/1.4/space_noise_cm.jpeg', 'Gamma s CM')\n",
    "plt.clf()\n",
    "sns.distplot(s_noise)\n",
    "plt.title('Gamma s histogram')\n",
    "plt.savefig('../plots/1.4/space_noise_hist.jpeg')\n",
    "\n",
    "# product of Gamma t and Gamma s (displaying subset)\n",
    "SUBSET_LENGTH = 8\n",
    "noise_product = np.dot(gamma_t_df, gamma_s_df)\n",
    "prod_subset = []\n",
    "for i in range(SUBSET_LENGTH):\n",
    "    row = list(noise_product[i])[0:SUBSET_LENGTH]\n",
    "    prod_subset.append(row)\n",
    "get_cm(pd.DataFrame(prod_subset, columns=range(SUBSET_LENGTH)), SUBSET_LENGTH, [str(x) for x in range(8)], '../plots/1.4/noise_product_cm.jpeg', 'Gamma t x Gamma s CM (first 8x8)')\n"
   ],
   "outputs": [
    {
     "output_type": "stream",
     "name": "stderr",
     "text": [
      "/home/hjthorpe/.local/lib/python3.8/site-packages/seaborn/distributions.py:2557: FutureWarning: `distplot` is a deprecated function and will be removed in a future version. Please adapt your code to use either `displot` (a figure-level function with similar flexibility) or `histplot` (an axes-level function for histograms).\n",
      "  warnings.warn(msg, FutureWarning)\n",
      "/home/hjthorpe/.local/lib/python3.8/site-packages/seaborn/distributions.py:2557: FutureWarning: `distplot` is a deprecated function and will be removed in a future version. Please adapt your code to use either `displot` (a figure-level function with similar flexibility) or `histplot` (an axes-level function for histograms).\n",
      "  warnings.warn(msg, FutureWarning)\n"
     ]
    },
    {
     "output_type": "display_data",
     "data": {
      "text/plain": [
       "<Figure size 432x288 with 0 Axes>"
      ]
     },
     "metadata": {}
    },
    {
     "output_type": "display_data",
     "data": {
      "text/plain": [
       "<Figure size 288x288 with 0 Axes>"
      ]
     },
     "metadata": {}
    },
    {
     "output_type": "display_data",
     "data": {
      "text/plain": [
       "<Figure size 288x288 with 0 Axes>"
      ]
     },
     "metadata": {}
    },
    {
     "output_type": "display_data",
     "data": {
      "image/png": "[encoded data removed]",
      "text/plain": [
       "<Figure size 288x288 with 2 Axes>"
      ]
     },
     "metadata": {
      "needs_background": "light"
     }
    }
   ],
   "metadata": {}
  },
  {
   "cell_type": "code",
   "execution_count": 79,
   "source": [
    "# Question 1.5 \n",
    "left = (tc_df.add(gamma_t_df))\n",
    "right = (sm_df.add(gamma_s_df))\n",
    "\n",
    "X = np.dot(left, right)\n",
    "\n",
    "# checking if TC x Gamma_s and Gamma_t x SM exists\n",
    "tc_space_noise_product = np.dot(tc_df, gamma_s_df)\n",
    "sm_time_noise_product = np.dot(gamma_t_df, sm_df)\n",
    "\n",
    "# plotting 100 random series \n",
    "time_series_for_plot = random.sample(range(len(X[0])), 100)\n",
    "plt.clf()\n",
    "for time_series_num in time_series_for_plot:\n",
    "    time_series = []\n",
    "    for row in X:\n",
    "        time_series.append(row[time_series_num])\n",
    "    plt.plot(range(len(time_series)), time_series)\n",
    "plt.title('100 random time series from X', fontdict = {'fontsize' : 16})\n",
    "plt.savefig('../plots/1.5/random_time_series.jpeg')\n",
    "\n",
    "# plotting variances of variables\n",
    "vars = []\n",
    "for variable in range(len(X[0])):\n",
    "    var = np.var(get_column(X, variable))\n",
    "    vars.append(var)\n",
    "plt.clf()\n",
    "print(len(vars))\n",
    "plt.scatter(range(len(vars)), vars)\n",
    "plt.title('Variance of X variables', fontdict = {'fontsize' : 16})\n",
    "plt.savefig('../plots/1.5/variances.jpeg')\n",
    "\n",
    "# Standardize X\n",
    "for col_num in range(len(X[0])):\n",
    "    col = get_column(X, col_num)\n",
    "    col = [c - np.mean(col) for c in col]\n",
    "    col = [c / np.std(col) for c in col]\n",
    "\n",
    "    for row_num in range(len(col)):\n",
    "        X[row_num][col_num] = col[row_num]\n"
   ],
   "outputs": [
    {
     "output_type": "stream",
     "name": "stdout",
     "text": [
      "441\n"
     ]
    },
    {
     "output_type": "display_data",
     "data": {
      "image/png": "[encoded data removed]",
      "text/plain": [
       "<Figure size 432x288 with 1 Axes>"
      ]
     },
     "metadata": {
      "needs_background": "light"
     }
    }
   ],
   "metadata": {}
  },
  {
   "cell_type": "code",
   "execution_count": 80,
   "source": [
    "# Question 2.1 \n",
    "D = tc_df\n",
    "A = sm_df\n",
    "A_LSR = np.dot(np.dot((np.linalg.inv(np.dot(D.transpose(), D))), D.transpose()), X)\n",
    "D_LSR = np.dot(X, A_LSR.T)\n",
    "\n",
    "def plot_retrieved(A, D, method, prefix):\n",
    "    \"\"\"Plots retrived TCs and SMs from A and D\"\"\"\n",
    "    for retrieved in range(NUM_MAPS):\n",
    "        # getting plot of map \n",
    "        sm = A[retrieved]\n",
    "        # rearranging map into matrix\n",
    "        map_matrix = []\n",
    "        for i in range(MAP_LENGTH):\n",
    "            row = []\n",
    "            for j in range(MAP_WIDTH):\n",
    "                row.append(sm[(i * MAP_WIDTH) + j])\n",
    "            map_matrix.append(row)\n",
    "        # plotting map\n",
    "        plt.clf()\n",
    "        plot_map(np.array(map_matrix).T, plt)\n",
    "        plt.title(method + ' Retrieved SM ' + str(retrieved + 1), fontdict = {'fontsize' : 18})\n",
    "        map_path = prefix + 'map' + str(retrieved + 1) + '.jpeg'\n",
    "        plt.savefig(map_path)\n",
    "\n",
    "        # geting time course \n",
    "        time_series = []\n",
    "        for row in D:\n",
    "            time_series.append(row[retrieved])\n",
    "        # plotting time course   \n",
    "        plt.clf()\n",
    "        plt.plot(range(len(time_series)), time_series)\n",
    "        plt.title(method + ' Retrieved TC ' + str(retrieved + 1), fontdict = {'fontsize' : 18})\n",
    "        time_path = prefix + 'time' + str(retrieved + 1) + '.jpeg'\n",
    "        plt.savefig(time_path)\n",
    "\n",
    "        # combining subplots\n",
    "        images = [Image.open(x) for x in [map_path, time_path]]\n",
    "        widths, heights = zip(*(i.size for i in images))\n",
    "        new_img = Image.new('RGB', (sum(widths), max(heights)))\n",
    "        x_offset = 0\n",
    "        for img in images:\n",
    "            new_img.paste(img, (x_offset,0))\n",
    "            x_offset += img.size[0]\n",
    "        new_img.save(prefix + 'retrieved_' + str(retrieved + 1) + '.jpeg')\n",
    "        \n",
    "        #removing temporary subplots\n",
    "        os.remove(map_path)\n",
    "        os.remove(time_path)\n",
    "\n",
    "plot_retrieved(A_LSR, D_LSR, 'LSR', '../plots/2.1/lsr_')\n",
    "\n",
    "# Scatter plot of 3rd column of D_lSR and 30th column of standardized X\n",
    "# TODO \n",
    "plt.clf()\n",
    "plt.scatter(get_column(D_LSR, 2), get_column(X, 29))\n",
    "plt.title('3rd column of D_LSR vs 30th column X')\n",
    "plt.savefig('../plots/2.1/D_LSR_3rdCol_vs_X_30thCol.jpeg')\n",
    "# Scatter plot of 4th column of D_lSR and 30th column of standardized X\n",
    "plt.clf()\n",
    "plt.scatter(get_column(D_LSR, 3), get_column(X, 29))\n",
    "plt.title('4th column of D_LSR vs 30th column X')\n",
    "plt.savefig('../plots/2.1/D_LSR_4thCol_vs_X_30thCol.jpeg')"
   ],
   "outputs": [
    {
     "output_type": "display_data",
     "data": {
      "text/plain": [
       "<Figure size 432x288 with 0 Axes>"
      ]
     },
     "metadata": {}
    },
    {
     "output_type": "display_data",
     "data": {
      "text/plain": [
       "<Figure size 288x288 with 0 Axes>"
      ]
     },
     "metadata": {}
    },
    {
     "output_type": "display_data",
     "data": {
      "text/plain": [
       "<Figure size 288x288 with 0 Axes>"
      ]
     },
     "metadata": {}
    },
    {
     "output_type": "display_data",
     "data": {
      "text/plain": [
       "<Figure size 288x288 with 0 Axes>"
      ]
     },
     "metadata": {}
    },
    {
     "output_type": "display_data",
     "data": {
      "text/plain": [
       "<Figure size 288x288 with 0 Axes>"
      ]
     },
     "metadata": {}
    },
    {
     "output_type": "display_data",
     "data": {
      "text/plain": [
       "<Figure size 288x288 with 0 Axes>"
      ]
     },
     "metadata": {}
    },
    {
     "output_type": "display_data",
     "data": {
      "image/png": "[encoded data removed]",
      "text/plain": [
       "<Figure size 288x288 with 1 Axes>"
      ]
     },
     "metadata": {
      "needs_background": "light"
     }
    }
   ],
   "metadata": {}
  },
  {
   "cell_type": "code",
   "execution_count": 81,
   "source": [
    "# Question 2.2\n",
    "\n",
    "def get_corr(TC, D):\n",
    "    \"\"\"returns a vector only retaining maximum absolute correlations between TC and D\"\"\"\n",
    "    c =[]\n",
    "    for col_num_tc in range(len(TC[0])):\n",
    "        corr_vector = []\n",
    "        col_tc = get_column(TC, col_num_tc)\n",
    "        for col_num_d in range(len(D[0])):\n",
    "            col_d = get_column(D, col_num_d)\n",
    "            corr_vector.append(abs(np.corrcoef(col_tc, col_d)[0][1]))\n",
    "        c.append(max(corr_vector))\n",
    "    return c\n",
    "\n",
    "def get_A_RR(lambda_val):\n",
    "    \"\"\"Returns ridge regression paramater for A based on lambda_val\"\"\"\n",
    "    return np.dot(np.dot((np.linalg.inv(np.dot(D.transpose(), D) + (lambda_val * np.identity(NUM_MAPS)))), D.transpose()), X)\n",
    "\n",
    "# guess and checking for optimal value of lambda by maximising sum of c_TRR\n",
    "max_corr_sum = 0\n",
    "max_lambda = 0\n",
    "for val in range(1, 101):\n",
    "    val = val / 100 # to make lambda between 0 and 1 \n",
    "    lambda_tilde = val * V # gets lambda tilde\n",
    "    A_RR = get_A_RR(lambda_tilde)\n",
    "    D_RR = np.dot(X, A_RR.transpose())\n",
    "\n",
    "    temp_sum = sum(get_corr(tc, D_RR))\n",
    "    if temp_sum > max_corr_sum:\n",
    "        max_corr_sum = temp_sum\n",
    "        max_lambda = val\n",
    "\n",
    "# performing operations with optimal lambda\n",
    "A_RR = get_A_RR(max_lambda)\n",
    "D_RR = np.dot(X, A_RR.transpose())\n",
    "c_TLSR = get_corr(tc, D_LSR)\n",
    "c_TRR = get_corr(tc, D_RR)\n",
    "\n",
    "print('Chosen value for lambda: ', max_lambda)\n",
    "print('Sum of c_TRR', sum(c_TRR))\n",
    "print('Sum of c_TLSR', sum(c_TLSR))\n",
    "\n",
    "# plotting first vector from A_RR and A_LSR for lambda=1000\n",
    "lambda_tilde_1000 = 1000 * V\n",
    "A_RR_1000 = get_A_RR(lambda_tilde_1000)\n",
    "plt.clf()\n",
    "plt.scatter(A_LSR[0], range(len(A_LSR[0])), c='r')\n",
    "plt.scatter(A_RR_1000[0], range(len(A_RR_1000[0])), c='b')\n",
    "plt.title('First vector from A_LSR (red) and A_RR (blue)')\n",
    "plt.savefig('../plots/2.2/first_vector.jpeg')"
   ],
   "outputs": [
    {
     "output_type": "stream",
     "name": "stdout",
     "text": [
      "Chosen value for lambda:  0.31\n",
      "Sum of c_TRR 5.216175673577393\n",
      "Sum of c_TLSR 5.212746706818065\n"
     ]
    },
    {
     "output_type": "display_data",
     "data": {
      "image/png": "[encoded data removed]",
      "text/plain": [
       "<Figure size 432x288 with 1 Axes>"
      ]
     },
     "metadata": {
      "needs_background": "light"
     }
    }
   ],
   "metadata": {}
  },
  {
   "cell_type": "code",
   "execution_count": 82,
   "source": [
    "# Question 2.3\n",
    "from sklearn.metrics import mean_squared_error\n",
    "\n",
    "def get_Alr(X, tc, N, nsrcs, x1, x2, rho):\n",
    "    \"\"\"The code below was adapted from the R Code for LR from the specs\"\"\"\n",
    "    np.dot\n",
    "    step = 1/(np.linalg.norm(np.dot(tc, tc.T) * 1.1))\n",
    "    thr = rho * N * step\n",
    "    Ao = np.zeros(nsrcs)\n",
    "    A = np.zeros(nsrcs)\n",
    "    Alr = np.zeros((nsrcs, x1 * x2))\n",
    "\n",
    "    for k in range(x1 * x2):\n",
    "        A = Ao + step * ( np.dot(tc.T, (get_column(X, k) - (np.dot(tc, Ao)))))\n",
    "        A = (1/(1+thr)) * (np.sign(A) * np.maximum(np.repeat([0], nsrcs), abs(A) - thr))\n",
    "        for i in range(10): \n",
    "            Ao = A\n",
    "            A = Ao + step * (np.dot(tc.T, (get_column(X, k) - (np.dot(tc, Ao)))))\n",
    "            A = (1/(1+thr)) * (np.sign(A) * np.maximum(np.repeat([0], nsrcs), abs(A)-thr))\n",
    "        \n",
    "        for row_num in range(len(Alr)):\n",
    "            Alr[row_num][k] = A[row_num]\n",
    "    return Alr\n",
    "\n",
    "def get_mse(X, Alr, Dlr):\n",
    "    return mean_squared_error(X, np.dot(Dlr, Alr))\n",
    "\n",
    "mse_lst = []\n",
    "rho_array = np.arange(0, 1.05, 0.05)\n",
    "for rho in rho_array:\n",
    "    rho = round(rho, 2)\n",
    "    mse_total = 0\n",
    "    for i in range (10):\n",
    "        # generating new noise\n",
    "        gamma_t, t_noise = get_noise(NUM_T_SOURCES, N, MEAN, T_NOISE_VAR)\n",
    "        gamma_t_df = pd.DataFrame(gamma_t,  columns = t_vector_names)\n",
    "        gamma_s, s_noise = get_noise(V, NUM_MAPS, MEAN, S_NOISE_VAR)\n",
    "        gamma_s_df = pd.DataFrame(gamma_s,  columns = range(1, V+1))\n",
    "        # getting new x\n",
    "        left = (tc_df.add(gamma_t_df))\n",
    "        right = (sm_df.add(gamma_s_df))\n",
    "        X_new = np.dot(left, right)\n",
    "        # getting lasso estimates and mse\n",
    "        Alr = get_Alr(X_new, tc, N, 6, 21, 21, rho)\n",
    "        Dlr = np.dot(X_new, Alr.T)\n",
    "        mse_total += get_mse(X_new, Alr, Dlr)\n",
    "    mse_lst.append(mse_total/10)\n",
    "\n",
    "# plotting average MSE\n",
    "plt.clf()\n",
    "plt.plot(rho_array, mse_lst)\n",
    "plt.title('rho vs Average MSE')\n",
    "plt.savefig('../plots/2.3/mse.jpeg')\n",
    "\n",
    "plt.clf()\n",
    "plt.plot(rho_array[8:], mse_lst[8:])\n",
    "plt.title('rho (starting from 0.4) vs Average MSE')\n",
    "plt.savefig('../plots/2.3/mse_sub.jpeg')\n",
    "\n",
    "# printing mses and rho\n",
    "print('Avegage MSEs', mse_lst)\n",
    "min_mse = min(mse_lst)\n",
    "print(\"min mse value: \", min_mse)\n",
    "for i in range(len(rho_array)):\n",
    "    if mse_lst[i] == min_mse:\n",
    "        rho = rho_array[i]\n",
    "        print(\"rho value selected: \", rho)\n",
    "        break"
   ],
   "outputs": [
    {
     "output_type": "stream",
     "name": "stdout",
     "text": [
      "Avegage MSEs [210.2521819807054, 110.04825228456907, 66.9919725549949, 38.56662757879103, 20.291467434880143, 11.620733614047609, 7.788560256402173, 4.308170903369442, 2.445090753910987, 1.2241003935491683, 0.705536283252928, 0.3311221644793614, 0.18996306186204862, 0.15268447625726345, 0.16576985218843096, 0.21418066264301863, 0.2644297830715675, 0.31350145136632424, 0.3475340294411232, 0.37369796414499123, 0.3923275677580745]\n",
      "min mse value:  0.15268447625726345\n",
      "rho value selected:  0.65\n"
     ]
    },
    {
     "output_type": "display_data",
     "data": {
      "image/png": "[encoded data removed]",
      "text/plain": [
       "<Figure size 432x288 with 1 Axes>"
      ]
     },
     "metadata": {
      "needs_background": "light"
     }
    }
   ],
   "metadata": {}
  },
  {
   "cell_type": "code",
   "execution_count": 83,
   "source": [
    "# Question 2.4\n",
    "# Estimating LR parameters\n",
    "Alr = get_Alr(X, tc, N, 6, 21, 21, rho)\n",
    "Dlr = np.dot(X, Alr.T)\n",
    "\n",
    "# getting correlation vectors\n",
    "c_TRR = get_corr(tc, D_RR)\n",
    "c_SRR = get_corr(sm_df.to_numpy().T, A_RR.T)\n",
    "c_TLR = get_corr(tc, Dlr)\n",
    "c_SLR = get_corr(sm_df.to_numpy().T, Alr.T)\n",
    "print(\"c_TRR sum: \", sum(c_TRR))\n",
    "print(\"c_TLR sum: \", sum(c_TLR))\n",
    "print()\n",
    "print(\"c_SRR sum: \", sum(c_SRR))\n",
    "print(\"c_SLR sum: \", sum(c_SLR))\n",
    "\n",
    "# creating subplots\n",
    "temp_path = '../plots/temp/'\n",
    "plot_retrieved(A_RR, D_RR, 'RR', temp_path + 'rr')\n",
    "plot_retrieved(Alr, Dlr, 'LR', temp_path + 'lr')\n",
    "\n",
    "# combining subplots\n",
    "images = [Image.open(temp_path + x) for x in os.listdir(temp_path)]\n",
    "widths, heights = zip(*(i.size for i in images))\n",
    "\n",
    "# removing temporary subplots\n",
    "for fle in os.listdir(temp_path):\n",
    "    os.remove(temp_path + fle)\n",
    "\n",
    "# two sequences one for LR and one for RR\n",
    "for sequence in range(2): \n",
    "    new_img = Image.new('RGB', (max(widths), int(sum(heights)/2)))\n",
    "    y_offset = 0\n",
    "    # going through six sources\n",
    "    for source in range(6):\n",
    "        img = images[source + (6 * sequence)]\n",
    "        new_img.paste(img, (0, y_offset))\n",
    "        y_offset += img.size[1]\n",
    "    new_img.save('retrieved_sources' + str(sequence) +'.jpeg')\n",
    "\n",
    "# combining RR and LR columns \n",
    "images = [Image.open(x) for x in ['retrieved_sources1.jpeg', 'retrieved_sources0.jpeg']]\n",
    "widths, heights = zip(*(i.size for i in images))\n",
    "new_img = Image.new('RGB', (sum(widths), max(heights)))\n",
    "x_offset = 0\n",
    "# going through six sources\n",
    "for img in images:\n",
    "    new_img.paste(img, (x_offset, 0))\n",
    "    x_offset += img.size[0]\n",
    "new_img.save('../plots/2.4/retrieved_sources_cols.jpeg')\n",
    "\n",
    "# removing temporary subplots\n",
    "os.remove('retrieved_sources0.jpeg')\n",
    "os.remove('retrieved_sources1.jpeg')"
   ],
   "outputs": [
    {
     "output_type": "stream",
     "name": "stdout",
     "text": [
      "c_TRR sum:  5.216175673577393\n",
      "c_TLR sum:  5.445287869583603\n",
      "\n",
      "c_SRR sum:  2.7093861873405434\n",
      "c_SLR sum:  4.875959475762368\n"
     ]
    },
    {
     "output_type": "display_data",
     "data": {
      "text/plain": [
       "<Figure size 432x288 with 0 Axes>"
      ]
     },
     "metadata": {}
    },
    {
     "output_type": "display_data",
     "data": {
      "text/plain": [
       "<Figure size 288x288 with 0 Axes>"
      ]
     },
     "metadata": {}
    },
    {
     "output_type": "display_data",
     "data": {
      "text/plain": [
       "<Figure size 288x288 with 0 Axes>"
      ]
     },
     "metadata": {}
    },
    {
     "output_type": "display_data",
     "data": {
      "text/plain": [
       "<Figure size 288x288 with 0 Axes>"
      ]
     },
     "metadata": {}
    },
    {
     "output_type": "display_data",
     "data": {
      "text/plain": [
       "<Figure size 288x288 with 0 Axes>"
      ]
     },
     "metadata": {}
    },
    {
     "output_type": "display_data",
     "data": {
      "text/plain": [
       "<Figure size 288x288 with 0 Axes>"
      ]
     },
     "metadata": {}
    },
    {
     "output_type": "display_data",
     "data": {
      "text/plain": [
       "<Figure size 288x288 with 0 Axes>"
      ]
     },
     "metadata": {}
    },
    {
     "output_type": "display_data",
     "data": {
      "text/plain": [
       "<Figure size 288x288 with 0 Axes>"
      ]
     },
     "metadata": {}
    },
    {
     "output_type": "display_data",
     "data": {
      "text/plain": [
       "<Figure size 288x288 with 0 Axes>"
      ]
     },
     "metadata": {}
    },
    {
     "output_type": "display_data",
     "data": {
      "text/plain": [
       "<Figure size 288x288 with 0 Axes>"
      ]
     },
     "metadata": {}
    },
    {
     "output_type": "display_data",
     "data": {
      "text/plain": [
       "<Figure size 288x288 with 0 Axes>"
      ]
     },
     "metadata": {}
    },
    {
     "output_type": "display_data",
     "data": {
      "text/plain": [
       "<Figure size 288x288 with 0 Axes>"
      ]
     },
     "metadata": {}
    },
    {
     "output_type": "display_data",
     "data": {
      "image/png": "[encoded data removed]",
      "text/plain": [
       "<Figure size 288x288 with 1 Axes>"
      ]
     },
     "metadata": {
      "needs_background": "light"
     }
    }
   ],
   "metadata": {}
  },
  {
   "cell_type": "code",
   "execution_count": 84,
   "source": [
    "# Question 2.5 \n",
    "from sklearn.decomposition import PCA\n",
    "# original time courses\n",
    "D = tc_df.to_numpy()\n",
    "# getting PCs\n",
    "u, s, vh = np.linalg.svd(D)\n",
    "Z = np.dot(D, vh)\n",
    "\n",
    "# plotting eigen values  \n",
    "cov = np.dot(D.T, D) / (len(D) - 1)\n",
    "e_vals, e_vecs = np.linalg.eig(cov)\n",
    "print('Eigen values: ', e_vals)\n",
    "plt.clf()\n",
    "plt.scatter(range(1, 7), e_vals)\n",
    "plt.title('Eigen values of each PC')\n",
    "plt.savefig('../plots/2.5/eigenvalues.jpeg')\n",
    "\n",
    "for tc_num in range(6):\n",
    "    # getting plots of source Tcs\n",
    "    tc_img = Image.open('../plots/1.1/tc_' + str(tc_num + 1) + '.jpeg')\n",
    "    tc_w, tc_h = tc_img.size\n",
    "    # creating plot for pcs\n",
    "    plt.clf()    \n",
    "    plt.plot(range(1, 241), Z.T[tc_num])\n",
    "    plt.title('Z regressor ' + str(tc_num + 1), fontdict = {'fontsize' : 24})\n",
    "    plt.savefig('../plots/temp/' + str(tc_num + 1) + '.jpeg')\n",
    "    ztc_img = Image.open('../plots/temp/' + str(tc_num + 1) + '.jpeg')\n",
    "    ztc_w, ztc_h = tc_img.size\n",
    "    # combining subplots\n",
    "    new_img = Image.new('RGB', (sum([ztc_w, tc_w]), max([ztc_h, tc_h])))\n",
    "    new_img.paste(tc_img, (0, 0))\n",
    "    new_img.paste(ztc_img, (tc_w, 0))\n",
    "    new_img.save('../plots/2.5/source_and_pc' + str(tc_num + 1) + '.jpeg')\n",
    "    # removing subplots\n",
    "    os.remove('../plots/temp/' + str(tc_num + 1) + '.jpeg')\n",
    "\n",
    "# performing lasso regression\n",
    "A_PCR = get_Alr(X, Z, N, 6, 21, 21, 0.001)\n",
    "D_PCR = np.dot(X, A_PCR.T)\n",
    "plot_retrieved(A_PCR, D_PCR, 'PCA', '../plots/2.5/pca_')"
   ],
   "outputs": [
    {
     "output_type": "stream",
     "name": "stdout",
     "text": [
      "Eigen values:  [2.46092846 0.15379429 0.34463671 1.1797447  1.05321103 0.83278942]\n"
     ]
    },
    {
     "output_type": "display_data",
     "data": {
      "text/plain": [
       "<Figure size 432x288 with 0 Axes>"
      ]
     },
     "metadata": {}
    },
    {
     "output_type": "display_data",
     "data": {
      "text/plain": [
       "<Figure size 288x288 with 0 Axes>"
      ]
     },
     "metadata": {}
    },
    {
     "output_type": "display_data",
     "data": {
      "text/plain": [
       "<Figure size 288x288 with 0 Axes>"
      ]
     },
     "metadata": {}
    },
    {
     "output_type": "display_data",
     "data": {
      "text/plain": [
       "<Figure size 288x288 with 0 Axes>"
      ]
     },
     "metadata": {}
    },
    {
     "output_type": "display_data",
     "data": {
      "text/plain": [
       "<Figure size 288x288 with 0 Axes>"
      ]
     },
     "metadata": {}
    },
    {
     "output_type": "display_data",
     "data": {
      "text/plain": [
       "<Figure size 288x288 with 0 Axes>"
      ]
     },
     "metadata": {}
    },
    {
     "output_type": "display_data",
     "data": {
      "image/png": "[encoded data removed]",
      "text/plain": [
       "<Figure size 288x288 with 1 Axes>"
      ]
     },
     "metadata": {
      "needs_background": "light"
     }
    }
   ],
   "metadata": {}
  }
 ],
 "metadata": {
  "orig_nbformat": 4,
  "language_info": {
   "name": "python",
   "version": "3.8.10",
   "mimetype": "text/x-python",
   "codemirror_mode": {
    "name": "ipython",
    "version": 3
   },
   "pygments_lexer": "ipython3",
   "nbconvert_exporter": "python",
   "file_extension": ".py"
  },
  "kernelspec": {
   "name": "python3",
   "display_name": "Python 3.8.10 64-bit"
  },
  "interpreter": {
   "hash": "916dbcbb3f70747c44a77c7bcd40155683ae19c65e1c03b4aa3499c5328201f1"
  }
 },
 "nbformat": 4,
 "nbformat_minor": 2
}